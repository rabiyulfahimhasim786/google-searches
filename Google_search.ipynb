{
  "nbformat": 4,
  "nbformat_minor": 0,
  "metadata": {
    "colab": {
      "name": "Google search.ipynb",
      "provenance": [],
      "collapsed_sections": [],
      "authorship_tag": "ABX9TyN+DU2l8vZH2BOpVQ+1oLTr",
      "include_colab_link": true
    },
    "kernelspec": {
      "name": "python3",
      "display_name": "Python 3"
    },
    "language_info": {
      "name": "python"
    }
  },
  "cells": [
    {
      "cell_type": "markdown",
      "metadata": {
        "id": "view-in-github",
        "colab_type": "text"
      },
      "source": [
        "<a href=\"https://colab.research.google.com/github/rabiyulfahimhasim786/google-searches/blob/main/Google_search.ipynb\" target=\"_parent\"><img src=\"https://colab.research.google.com/assets/colab-badge.svg\" alt=\"Open In Colab\"/></a>"
      ]
    },
    {
      "cell_type": "code",
      "execution_count": null,
      "metadata": {
        "colab": {
          "base_uri": "https://localhost:8080/"
        },
        "id": "ZaI8Y9_aOr_H",
        "outputId": "6937fcc8-d956-41e2-87a6-8ece2728539a"
      },
      "outputs": [
        {
          "output_type": "stream",
          "name": "stdout",
          "text": [
            "Looking in indexes: https://pypi.org/simple, https://us-python.pkg.dev/colab-wheels/public/simple/\n",
            "Requirement already satisfied: google in /usr/local/lib/python3.7/dist-packages (2.0.3)\n",
            "Requirement already satisfied: beautifulsoup4 in /usr/local/lib/python3.7/dist-packages (from google) (4.6.3)\n"
          ]
        }
      ],
      "source": [
        "!pip install google"
      ]
    },
    {
      "cell_type": "code",
      "source": [
        "from googlesearch import search"
      ],
      "metadata": {
        "id": "dB5m2NeBOwTB"
      },
      "execution_count": null,
      "outputs": []
    },
    {
      "cell_type": "code",
      "source": [
        "#https://medium.com/analytics-vidhya/automate-the-google-search-using-python-b93e4621eb8b"
      ],
      "metadata": {
        "id": "quQBKOJZawfh"
      },
      "execution_count": 70,
      "outputs": []
    },
    {
      "cell_type": "code",
      "source": [
        "import requests\n",
        "from lxml.html import fromstring\n",
        "\n",
        "def Link_title(URL):\n",
        "    x = requests.get(URL)\n",
        "    tree = fromstring(x.content)\n",
        "    return tree.findtext('.//title')"
      ],
      "metadata": {
        "id": "auOWiyFvOxvw"
      },
      "execution_count": null,
      "outputs": []
    },
    {
      "cell_type": "code",
      "source": [
        "company_name = input(\"Please provide the company name:\")"
      ],
      "metadata": {
        "colab": {
          "base_uri": "https://localhost:8080/"
        },
        "id": "5SNtZONJOzJq",
        "outputId": "a340c786-0bf2-4287-90a1-770c5f41bf0c"
      },
      "execution_count": null,
      "outputs": [
        {
          "name": "stdout",
          "output_type": "stream",
          "text": [
            "Please provide the company name:Bharat rasayan\n"
          ]
        }
      ]
    },
    {
      "cell_type": "code",
      "source": [
        "query = int(input(\"Please give the appropriate value. 1 for Fundamental Analysis, 2 for News, 3 for Technical Analysis & 4 for Share Price Forecast:\"))"
      ],
      "metadata": {
        "colab": {
          "base_uri": "https://localhost:8080/"
        },
        "id": "CPR3uFw5O0rH",
        "outputId": "f4736664-71d7-45d2-ab1d-5df95e7aab20"
      },
      "execution_count": null,
      "outputs": [
        {
          "name": "stdout",
          "output_type": "stream",
          "text": [
            "Please give the appropriate value. 1 for Fundamental Analysis, 2 for News, 3 for Technical Analysis & 4 for Share Price Forecast:2\n"
          ]
        }
      ]
    },
    {
      "cell_type": "code",
      "source": [
        "if query == 1:\n",
        "    print (company_name+\" \"+\"Fundamental Analysis:\")\n",
        "    print (\" \")\n",
        "    for i in search(company_name,  tld='com', lang='en', num=1, start=0, stop=1, domains=['https://www.tickertape.in/'], pause=2.0):\n",
        "            \n",
        "            print (\"\\t\"+i)\n",
        "\n",
        "elif query == 2:\n",
        "        print (company_name+\" \"+\"News:\")\n",
        "        print (\" \")\n",
        "        for i in search(company_name+ 'News',  tld='com', lang='en', num=3, start=0, stop=3, pause=2.0, tpe='nws'):\n",
        "            \n",
        "            print (\"\\t\"+\"#\"+\" \"+Link_title(i))\n",
        "            print(\"\\t\"+i)\n",
        "            print(\" \")\n",
        "\n",
        "elif query == 3:\n",
        "        print (company_name+\" \"+\"Technical Analysis:\")\n",
        "        print (\" \")\n",
        "        for i in search(company_name+ 'Technical Analysis',  tld='com', lang='en', num=3, start=0, stop=3, pause=2.0):\n",
        "            \n",
        "            print (\"\\t\"+\"#\"+\" \"+Link_title(i))\n",
        "            print(\"\\t\"+i)\n",
        "            print(\" \")\n",
        "            \n",
        "else:\n",
        "    print (company_name+\" \"+\"Share Price Forecast:\")\n",
        "    print (\" \")\n",
        "    for i in search(company_name+ 'share price forecast',  tld='com', lang='en', num=3, start=0, stop=3, pause=2.0):\n",
        "        \n",
        "        print (\"\\t\"+\"#\"+\" \"+Link_title(i))\n",
        "        print(\"\\t\"+i)\n",
        "        print(\" \")"
      ],
      "metadata": {
        "colab": {
          "base_uri": "https://localhost:8080/"
        },
        "id": "mZCvSs9BO294",
        "outputId": "53f55246-7b5c-4872-9a9e-29b857a86d37"
      },
      "execution_count": null,
      "outputs": [
        {
          "output_type": "stream",
          "name": "stdout",
          "text": [
            "Bharat rasayan News:\n",
            " \n",
            "\t# Bharat Rasayan Standalone June 2022 Net Sales at Rs 327.40 crore, up 30.02% Y-o-Y\n",
            "\thttps://www.moneycontrol.com/news/business/earnings/bharat-rasayan-standalone-june-2022-net-sales-at-rs-327-40-crore-up-30-02-y-o-y-9011951.html\n",
            " \n",
            "\t# Insiders have been selling Bharat Rasayan Limited (NSE:BHARATRAS) recently yet still hold a significant stake; 8.6% drop last week not ideal - Simply Wall St News\n",
            "\thttps://simplywall.st/stocks/in/materials/nse-bharatras/bharat-rasayan-shares/news/insiders-have-been-selling-bharat-rasayan-limited-nsebharatr\n",
            " \n",
            "\t# Bharat Rasayan reports fire accident at Dahej Plant | Business Standard News\n",
            "\thttps://www.business-standard.com/article/news-cm/bharat-rasayan-reports-fire-accident-at-dahej-plant-122051800461_1.html\n",
            " \n"
          ]
        }
      ]
    },
    {
      "cell_type": "code",
      "source": [
        "from googlesearch import search"
      ],
      "metadata": {
        "id": "11Z-xcTrPN_B"
      },
      "execution_count": null,
      "outputs": []
    },
    {
      "cell_type": "code",
      "source": [
        "# as an example:\n",
        "query = \"iPhone\"\n",
        "for i in search (query,  tld='com', lang='en', tbs='0', safe='off', num=2, start=0, stop=2, domains=None, pause=2.0, tpe='', country='', extra_params=None, user_agent=None):\n",
        "  print(i)"
      ],
      "metadata": {
        "colab": {
          "base_uri": "https://localhost:8080/"
        },
        "id": "0lrrpQTQPPgu",
        "outputId": "2b837f48-ca60-4f39-db6f-8feba1d53498"
      },
      "execution_count": null,
      "outputs": [
        {
          "output_type": "stream",
          "name": "stdout",
          "text": [
            "https://www.foxbusiness.com/technology/apple-discloses-security-vulnerabilities-iphones-ipads-macs-hackers-complete-control\n",
            "https://www.npr.org/2022/08/19/1118406888/apple-iphone-ipad-mac-security-updates\n"
          ]
        }
      ]
    },
    {
      "cell_type": "code",
      "source": [
        "# importing the module\n",
        "from googlesearch import search# stored queries in a list\n",
        "query_list = [\"News\",\"Share price forecast\",\"Technical Analysis\"]# save the company name in a variable\n",
        "company_name = input(\"Please provide the stock name:\")# iterate through different keywords, search and print\n",
        "for j in query_list:\n",
        "   for i in search(company_name+j,  tld='com', lang='en', num=1, \n",
        "   start=0, stop=1, pause=2.0):\n",
        "      print (i)"
      ],
      "metadata": {
        "colab": {
          "base_uri": "https://localhost:8080/"
        },
        "id": "9sxZFdmYPcfE",
        "outputId": "096c179f-e393-4ef9-d233-d1708435a38a"
      },
      "execution_count": null,
      "outputs": [
        {
          "output_type": "stream",
          "name": "stdout",
          "text": [
            "Please provide the stock name:hdfc\n",
            "https://www.business-standard.com/company/H%20D%20F%20C-230/news\n",
            "https://walletinvestor.com/nse-stock-forecast/hdfc-stock-prediction\n",
            "https://www.tradingview.com/symbols/NSE-HDFCBANK/technicals/\n"
          ]
        }
      ]
    },
    {
      "cell_type": "code",
      "source": [
        "# importing the module\n",
        "from googlesearch import search# stored queries in a list\n",
        "query_list = [\"All\"]# save the company name in a variable\n",
        "company_name = input(\"Please provide the stock name:\")# iterate through different keywords, search and print\n",
        "for j in query_list:\n",
        "   for i in search(company_name+j,  tld='com', lang='en', num=1, \n",
        "   start=0, stop=1, pause=2.0):\n",
        "      print (i)"
      ],
      "metadata": {
        "colab": {
          "base_uri": "https://localhost:8080/"
        },
        "id": "beVcfmVpRMIz",
        "outputId": "794e2c2f-306b-4edd-f40c-b665431c5355"
      },
      "execution_count": null,
      "outputs": [
        {
          "output_type": "stream",
          "name": "stdout",
          "text": [
            "Please provide the stock name:hdfc\n",
            "https://www.hdfcbank.com/\n"
          ]
        }
      ]
    },
    {
      "cell_type": "code",
      "source": [
        "l = [1,2,3,4]"
      ],
      "metadata": {
        "id": "SfVEiWsdSTLh"
      },
      "execution_count": null,
      "outputs": []
    },
    {
      "cell_type": "code",
      "source": [
        "def dd():\n",
        "  for i in l:\n",
        "    print(i)"
      ],
      "metadata": {
        "id": "aGRHmAf9SUps"
      },
      "execution_count": null,
      "outputs": []
    },
    {
      "cell_type": "code",
      "source": [
        "dd()"
      ],
      "metadata": {
        "colab": {
          "base_uri": "https://localhost:8080/"
        },
        "id": "D3Fl1rEXSW2B",
        "outputId": "014b5dde-037b-4119-b4a1-830459bca43f"
      },
      "execution_count": null,
      "outputs": [
        {
          "output_type": "stream",
          "name": "stdout",
          "text": [
            "1\n",
            "2\n",
            "3\n",
            "4\n"
          ]
        }
      ]
    },
    {
      "cell_type": "code",
      "source": [
        "#getting news content only\n",
        "def newsExtractor(company_name):\n",
        "\n",
        "    link_counter = 0\n",
        "    news_list =[]\n",
        "    #st.subheader(f\"{company_name.title()} Top 3 News:\")\n",
        "    #st.text (\" \")\n",
        "    for i in search(company_name+ 'News',  tld='com', lang='en', num=10, start=0, stop=10, pause=2, tpe='nws'):\n",
        "      \n",
        "          \n",
        "      if (Link_title(i) != None) and (Link_title(i) != 'Access Denied') and (Link_title(i) != '403 not available now'):\n",
        "\n",
        "        link_counter += 1\n",
        "        news_list.append(i)\n",
        "\n",
        "        if link_counter == 3:\n",
        "          break\n",
        "    return (news_list)"
      ],
      "metadata": {
        "id": "-I2XgMlyU7XM"
      },
      "execution_count": null,
      "outputs": []
    },
    {
      "cell_type": "code",
      "source": [
        "for i in newsExtractor(\"Bandhan bank\"):\n",
        "  print(i)"
      ],
      "metadata": {
        "id": "SVYsLrOhU8yQ"
      },
      "execution_count": null,
      "outputs": []
    },
    {
      "cell_type": "code",
      "source": [
        "#all google search content \n",
        "def newsExtractor(company_name):\n",
        "\n",
        "    link_counter = 0\n",
        "    news_list =[]\n",
        "    #st.subheader(f\"{company_name.title()} Top 3 News:\")\n",
        "    #st.text (\" \")\n",
        "    for i in search(company_name+ 'All',  tld='com', lang='en', num=10, start=0, stop=10, pause=2, tpe=''):\n",
        "      \n",
        "          \n",
        "      if (Link_title(i) != None) and (Link_title(i) != 'Access Denied') and (Link_title(i) != '403 not available now'):\n",
        "\n",
        "        link_counter += 1\n",
        "        news_list.append(i)\n",
        "\n",
        "        if link_counter == 5:\n",
        "          break\n",
        "    return (news_list)"
      ],
      "metadata": {
        "id": "12FZWbsDSZEi"
      },
      "execution_count": null,
      "outputs": []
    },
    {
      "cell_type": "code",
      "source": [
        "for i in newsExtractor(\"Bandhan bank\"):\n",
        "  print(i)"
      ],
      "metadata": {
        "colab": {
          "base_uri": "https://localhost:8080/"
        },
        "id": "QusX4uFKSbBp",
        "outputId": "2350846a-f39d-46db-d5aa-585246cf9b95"
      },
      "execution_count": null,
      "outputs": [
        {
          "output_type": "stream",
          "name": "stdout",
          "text": [
            "https://bandhanbank.com/banking-outlet-locator\n",
            "https://bandhanbank.com/\n",
            "https://bandhanbank.com/careers\n",
            "https://bandhanbank.com/about-us\n",
            "https://bandhanbank.com/personal/bandhan-internet-banking\n"
          ]
        }
      ]
    },
    {
      "cell_type": "code",
      "source": [
        "newsExtractor(\"hdfc\")"
      ],
      "metadata": {
        "colab": {
          "base_uri": "https://localhost:8080/"
        },
        "id": "gA6Ja8otVV_F",
        "outputId": "0c456e89-5277-4ff7-e198-8e7b2f609541"
      },
      "execution_count": null,
      "outputs": [
        {
          "output_type": "execute_result",
          "data": {
            "text/plain": [
              "['https://www.hdfcbank.com/',\n",
              " 'https://en.wikipedia.org/wiki/HDFC_Bank',\n",
              " 'https://www.hdfc.com/',\n",
              " 'https://economictimes.indiatimes.com/hdfc-bank-ltd/stocks/companyid-9195.cms',\n",
              " 'https://economictimes.indiatimes.com/wealth/ifsccode/bank-hdfc-bank.cms']"
            ]
          },
          "metadata": {},
          "execution_count": 62
        }
      ]
    },
    {
      "cell_type": "code",
      "source": [
        "try:\n",
        "\tfrom googlesearch import search\n",
        "except ImportError:\n",
        "\tprint(\"No module named 'google' found\")\n",
        "\n",
        "# to search\n",
        "query = \"Geeksforgeeks\"\n",
        "\n",
        "for j in search(query, tld=\"co.in\", num=10, stop=10, pause=2):\n",
        "\tprint(j)\n",
        "#https://www.geeksforgeeks.org/performing-google-search-using-python-code/"
      ],
      "metadata": {
        "colab": {
          "base_uri": "https://localhost:8080/"
        },
        "id": "o6MODkrFZKQU",
        "outputId": "2d28597b-9d1c-4591-e09b-8aa65395feaf"
      },
      "execution_count": 69,
      "outputs": [
        {
          "output_type": "stream",
          "name": "stdout",
          "text": [
            "https://www.geeksforgeeks.org/\n",
            "https://twitter.com/geeksforgeeks?ref_src=twsrc%5Egoogle%7Ctwcamp%5Eserp%7Ctwgr%5Eauthor\n",
            "https://twitter.com/geeksforgeeks/status/1560695592388476928?ref_src=twsrc%5Egoogle%7Ctwcamp%5Eserp%7Ctwgr%5Etweet\n",
            "https://twitter.com/geeksforgeeks/status/1560539818962329600?ref_src=twsrc%5Egoogle%7Ctwcamp%5Eserp%7Ctwgr%5Etweet\n",
            "https://twitter.com/geeksforgeeks/status/1560911263655514114?ref_src=twsrc%5Egoogle%7Ctwcamp%5Eserp%7Ctwgr%5Etweet\n",
            "https://twitter.com/geeksforgeeks/status/1560875024994664453?ref_src=twsrc%5Egoogle%7Ctwcamp%5Eserp%7Ctwgr%5Etweet\n",
            "https://in.linkedin.com/company/geeksforgeeks\n",
            "https://www.youtube.com/c/GeeksforGeeksVideos/videos\n",
            "https://www.instagram.com/geeks_for_geeks/?hl=en\n",
            "https://www.facebook.com/geeksforgeeks.org/\n"
          ]
        }
      ]
    },
    {
      "cell_type": "code",
      "source": [
        "try:\n",
        "\tfrom googlesearch import search\n",
        "except ImportError:\n",
        "\tprint(\"No module named 'google' found\")\n",
        "\n",
        "# to search\n",
        "query = \"desss\"\n",
        "\n",
        "for j in search(query, tld=\"co.in\", num=10, stop=10, pause=3):\n",
        "\tprint(j)\n"
      ],
      "metadata": {
        "colab": {
          "base_uri": "https://localhost:8080/"
        },
        "id": "5eAL5om2ZbOu",
        "outputId": "049e335f-4b6b-470c-9f2c-251c87f2549d"
      },
      "execution_count": 68,
      "outputs": [
        {
          "output_type": "stream",
          "name": "stdout",
          "text": [
            "https://www.desss.com/\n",
            "https://www.linkedin.com/company/desss-inc\n",
            "https://www.linkedin.com/in/desssinc\n",
            "https://www.crunchbase.com/organization/desss\n",
            "https://www.zoominfo.com/c/desss-inc/20203137\n",
            "https://twitter.com/desssinc\n",
            "https://www.dess-usa.com/\n",
            "https://www.facebook.com/desssinc/\n",
            "https://www.instagram.com/explore/tags/desss/?hl=en\n",
            "https://www.instagram.com/luhh.desss/?hl=en\n"
          ]
        }
      ]
    }
  ]
}