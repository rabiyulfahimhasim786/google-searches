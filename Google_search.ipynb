{
  "nbformat": 4,
  "nbformat_minor": 0,
  "metadata": {
    "colab": {
      "name": "Google search.ipynb",
      "provenance": [],
      "collapsed_sections": [],
      "authorship_tag": "ABX9TyNOmPiAJ5PAoVw2bCiCCZLQ",
      "include_colab_link": true
    },
    "kernelspec": {
      "name": "python3",
      "display_name": "Python 3"
    },
    "language_info": {
      "name": "python"
    }
  },
  "cells": [
    {
      "cell_type": "markdown",
      "metadata": {
        "id": "view-in-github",
        "colab_type": "text"
      },
      "source": [
        "<a href=\"https://colab.research.google.com/github/rabiyulfahimhasim786/google-searches/blob/main/Google_search.ipynb\" target=\"_parent\"><img src=\"https://colab.research.google.com/assets/colab-badge.svg\" alt=\"Open In Colab\"/></a>"
      ]
    },
    {
      "cell_type": "code",
      "execution_count": 1,
      "metadata": {
        "colab": {
          "base_uri": "https://localhost:8080/"
        },
        "id": "ZaI8Y9_aOr_H",
        "outputId": "748bcc71-2ccb-4a7c-96ca-9957ea61adba"
      },
      "outputs": [
        {
          "output_type": "stream",
          "name": "stdout",
          "text": [
            "Looking in indexes: https://pypi.org/simple, https://us-python.pkg.dev/colab-wheels/public/simple/\n",
            "Requirement already satisfied: google in /usr/local/lib/python3.7/dist-packages (2.0.3)\n",
            "Requirement already satisfied: beautifulsoup4 in /usr/local/lib/python3.7/dist-packages (from google) (4.6.3)\n"
          ]
        }
      ],
      "source": [
        "!pip install google"
      ]
    },
    {
      "cell_type": "code",
      "source": [
        "from googlesearch import search"
      ],
      "metadata": {
        "id": "dB5m2NeBOwTB"
      },
      "execution_count": 2,
      "outputs": []
    },
    {
      "cell_type": "code",
      "source": [
        "#https://medium.com/analytics-vidhya/automate-the-google-search-using-python-b93e4621eb8b"
      ],
      "metadata": {
        "id": "quQBKOJZawfh"
      },
      "execution_count": null,
      "outputs": []
    },
    {
      "cell_type": "code",
      "source": [
        "import requests\n",
        "from lxml.html import fromstring\n",
        "\n",
        "def Link_title(URL):\n",
        "    x = requests.get(URL)\n",
        "    tree = fromstring(x.content)\n",
        "    return tree.findtext('.//title')"
      ],
      "metadata": {
        "id": "auOWiyFvOxvw"
      },
      "execution_count": null,
      "outputs": []
    },
    {
      "cell_type": "code",
      "source": [
        "company_name = input(\"Please provide the company name:\")"
      ],
      "metadata": {
        "colab": {
          "base_uri": "https://localhost:8080/"
        },
        "id": "5SNtZONJOzJq",
        "outputId": "b3eb2947-7253-4f51-bc9a-3e5375e571a8"
      },
      "execution_count": null,
      "outputs": [
        {
          "name": "stdout",
          "output_type": "stream",
          "text": [
            "Please provide the company name:hdfc\n"
          ]
        }
      ]
    },
    {
      "cell_type": "code",
      "source": [
        "query = int(input(\"Please give the appropriate value. 1 for Fundamental Analysis, 2 for News, 3 for Technical Analysis & 4 for Share Price Forecast:\"))"
      ],
      "metadata": {
        "colab": {
          "base_uri": "https://localhost:8080/"
        },
        "id": "CPR3uFw5O0rH",
        "outputId": "55596b9c-180c-46d7-ed11-877d78afd4e7"
      },
      "execution_count": null,
      "outputs": [
        {
          "name": "stdout",
          "output_type": "stream",
          "text": [
            "Please give the appropriate value. 1 for Fundamental Analysis, 2 for News, 3 for Technical Analysis & 4 for Share Price Forecast:2\n"
          ]
        }
      ]
    },
    {
      "cell_type": "code",
      "source": [
        "if query == 1:\n",
        "    print (company_name+\" \"+\"Fundamental Analysis:\")\n",
        "    print (\" \")\n",
        "    for i in search(company_name,  tld='com', lang='en', num=1, start=0, stop=1, domains=['https://www.tickertape.in/'], pause=2.0):\n",
        "            \n",
        "            print (\"\\t\"+i)\n",
        "\n",
        "elif query == 2:\n",
        "        print (company_name+\" \"+\"News:\")\n",
        "        print (\" \")\n",
        "        for i in search(company_name+ 'News',  tld='com', lang='en', num=3, start=0, stop=3, pause=2.0, tpe='nws'):\n",
        "            \n",
        "            print (\"\\t\"+\"#\"+\" \"+Link_title(i))\n",
        "            print(\"\\t\"+i)\n",
        "            print(\" \")\n",
        "\n",
        "elif query == 3:\n",
        "        print (company_name+\" \"+\"Technical Analysis:\")\n",
        "        print (\" \")\n",
        "        for i in search(company_name+ 'Technical Analysis',  tld='com', lang='en', num=3, start=0, stop=3, pause=2.0):\n",
        "            \n",
        "            print (\"\\t\"+\"#\"+\" \"+Link_title(i))\n",
        "            print(\"\\t\"+i)\n",
        "            print(\" \")\n",
        "            \n",
        "else:\n",
        "    print (company_name+\" \"+\"Share Price Forecast:\")\n",
        "    print (\" \")\n",
        "    for i in search(company_name+ 'share price forecast',  tld='com', lang='en', num=3, start=0, stop=3, pause=2.0):\n",
        "        \n",
        "        print (\"\\t\"+\"#\"+\" \"+Link_title(i))\n",
        "        print(\"\\t\"+i)\n",
        "        print(\" \")"
      ],
      "metadata": {
        "colab": {
          "base_uri": "https://localhost:8080/"
        },
        "id": "mZCvSs9BO294",
        "outputId": "cce4d7e2-213e-48d3-b9eb-1db51fe63980"
      },
      "execution_count": null,
      "outputs": [
        {
          "output_type": "stream",
          "name": "stdout",
          "text": [
            "hdfc News:\n",
            " \n",
            "\t# HDFC hikes home loan rates for all customers, to be effective from May 9 | Business News,The Indian Express\n",
            "\thttps://indianexpress.com/article/business/hdfc-home-loan-rates-hike-may-9-7905358/\n",
            " \n",
            "\t# HDFC news I People’s Bank of China cuts stake in HDFC amid India, China faceoff | Business News\n",
            "\thttps://www.timesnownews.com/business-economy/companies/article/people-s-bank-of-china-cuts-stake-in-hdfc-amid-india-china-faceoff/619553\n",
            " \n",
            "\t# RBI Partially Lifts Technology Ban on HDFC Bank, Allows It to Issue New Credit Cards\n",
            "\thttps://www.india.com/business/rbi-partially-lifts-technology-ban-on-hdfc-bank-allows-it-to-issue-new-credit-cards-4895485/\n",
            " \n"
          ]
        }
      ]
    },
    {
      "cell_type": "code",
      "source": [
        "from googlesearch import search"
      ],
      "metadata": {
        "id": "11Z-xcTrPN_B"
      },
      "execution_count": null,
      "outputs": []
    },
    {
      "cell_type": "code",
      "source": [
        "# as an example:\n",
        "query = \"iPhone\"\n",
        "for i in search (query,  tld='com', lang='en', tbs='0', safe='off', num=2, start=0, stop=2, domains=None, pause=2.0, tpe='', country='', extra_params=None, user_agent=None):\n",
        "  print(i)"
      ],
      "metadata": {
        "colab": {
          "base_uri": "https://localhost:8080/"
        },
        "id": "0lrrpQTQPPgu",
        "outputId": "2c51c1f1-2628-4d03-c783-642cb9894538"
      },
      "execution_count": null,
      "outputs": [
        {
          "output_type": "stream",
          "name": "stdout",
          "text": [
            "https://www.apple.com/iphone/\n",
            "https://www.apple.com/iphone-13-pro/key-features/\n"
          ]
        }
      ]
    },
    {
      "cell_type": "code",
      "source": [
        "# importing the module\n",
        "from googlesearch import search# stored queries in a list\n",
        "query_list = [\"News\",\"Share price forecast\",\"Technical Analysis\"]# save the company name in a variable\n",
        "company_name = input(\"Please provide the stock name:\")# iterate through different keywords, search and print\n",
        "for j in query_list:\n",
        "   for i in search(company_name+j,  tld='com', lang='en', num=1, \n",
        "   start=0, stop=1, pause=2.0):\n",
        "      print (i)"
      ],
      "metadata": {
        "colab": {
          "base_uri": "https://localhost:8080/"
        },
        "id": "9sxZFdmYPcfE",
        "outputId": "b4b8c9a2-b6e4-42f1-d520-274b0b75a8fd"
      },
      "execution_count": null,
      "outputs": [
        {
          "output_type": "stream",
          "name": "stdout",
          "text": [
            "Please provide the stock name:hdfc\n",
            "https://zeenews.india.com/personal-finance/close-all-bank-accounts-with-hdfc-bank-why-has-department-of-water-resources-of-punjab-government-issued-this-order-2500678.html\n",
            "https://walletinvestor.com/nse-stock-forecast/hdfc-stock-prediction\n",
            "https://www.investing.com/equities/hdfc-bank-ltd-technical\n"
          ]
        }
      ]
    },
    {
      "cell_type": "code",
      "source": [
        "# importing the module\n",
        "from googlesearch import search# stored queries in a list\n",
        "query_list = [\"All\"]# save the company name in a variable\n",
        "company_name = input(\"Please provide the stock name:\")# iterate through different keywords, search and print\n",
        "for j in query_list:\n",
        "   for i in search(company_name+j,  tld='com', lang='en', num=1, \n",
        "   start=0, stop=1, pause=2.0):\n",
        "      print (i)"
      ],
      "metadata": {
        "colab": {
          "base_uri": "https://localhost:8080/"
        },
        "id": "beVcfmVpRMIz",
        "outputId": "e312b56b-3d2d-49b6-f248-64ff4a04449d"
      },
      "execution_count": null,
      "outputs": [
        {
          "output_type": "stream",
          "name": "stdout",
          "text": [
            "Please provide the stock name:tcs\n",
            "https://texascharter.rsportz.com/\n"
          ]
        }
      ]
    },
    {
      "cell_type": "code",
      "source": [
        "l = [1,2,3,4]\n",
        "#print(l[0])"
      ],
      "metadata": {
        "id": "SfVEiWsdSTLh"
      },
      "execution_count": null,
      "outputs": []
    },
    {
      "cell_type": "code",
      "source": [
        "def dd():\n",
        "  for i in l:\n",
        "    print(i)"
      ],
      "metadata": {
        "id": "aGRHmAf9SUps"
      },
      "execution_count": null,
      "outputs": []
    },
    {
      "cell_type": "code",
      "source": [
        "dd()"
      ],
      "metadata": {
        "colab": {
          "base_uri": "https://localhost:8080/"
        },
        "id": "D3Fl1rEXSW2B",
        "outputId": "dc5adc4b-ee58-4c00-e259-efbf9c015da3"
      },
      "execution_count": null,
      "outputs": [
        {
          "output_type": "stream",
          "name": "stdout",
          "text": [
            "1\n",
            "2\n",
            "3\n",
            "4\n"
          ]
        }
      ]
    },
    {
      "cell_type": "code",
      "source": [
        "#getting news content only\n",
        "def newsExtractor(company_name):\n",
        "\n",
        "    link_counter = 0\n",
        "    news_list =[]\n",
        "    #st.subheader(f\"{company_name.title()} Top 3 News:\")\n",
        "    #st.text (\" \")\n",
        "    for i in search(company_name+ 'News',  tld='com', lang='en', num=10, start=0, stop=10, pause=2, tpe='nws'):\n",
        "      \n",
        "          \n",
        "      if (Link_title(i) != None) and (Link_title(i) != 'Access Denied') and (Link_title(i) != '403 not available now'):\n",
        "\n",
        "        link_counter += 1\n",
        "        news_list.append(i)\n",
        "\n",
        "        if link_counter == 3:\n",
        "          break\n",
        "    return (news_list)"
      ],
      "metadata": {
        "id": "-I2XgMlyU7XM"
      },
      "execution_count": null,
      "outputs": []
    },
    {
      "cell_type": "code",
      "source": [
        "for i in newsExtractor(\"Bandhan bank\"):\n",
        "  print(i)"
      ],
      "metadata": {
        "id": "SVYsLrOhU8yQ",
        "colab": {
          "base_uri": "https://localhost:8080/"
        },
        "outputId": "1c33e599-31b2-419d-bbd6-db9209aacd36"
      },
      "execution_count": null,
      "outputs": [
        {
          "output_type": "stream",
          "name": "stdout",
          "text": [
            "https://www.livemint.com/money/personal-finance/bandhan-bank-hikes-interest-rates-on-fixed-and-saving-deposits-details-inside-11661071775014.html\n",
            "https://www.indiablooms.com/photos-details/PF/7715/bandhan-bank-celebrates-its-7th-anniversary.html\n",
            "https://www.business-standard.com/article/companies/asset-quality-worries-weigh-on-bandhan-bank-s-stock-122072501221_1.html\n"
          ]
        }
      ]
    },
    {
      "cell_type": "code",
      "source": [
        "#all google search content \n",
        "def newsExtractor(company_name):\n",
        "\n",
        "    link_counter = 0\n",
        "    news_list =[]\n",
        "    #st.subheader(f\"{company_name.title()} Top 3 News:\")\n",
        "    #st.text (\" \")\n",
        "    for i in search(company_name+ 'All',  tld='com', lang='en', num=10, start=0, stop=10, pause=2, tpe=''):\n",
        "      \n",
        "          \n",
        "      if (Link_title(i) != None) and (Link_title(i) != 'Access Denied') and (Link_title(i) != '403 not available now'):\n",
        "\n",
        "        link_counter += 1\n",
        "        news_list.append(i)\n",
        "\n",
        "        if link_counter == 5:\n",
        "          break\n",
        "    return (news_list)"
      ],
      "metadata": {
        "id": "12FZWbsDSZEi"
      },
      "execution_count": null,
      "outputs": []
    },
    {
      "cell_type": "code",
      "source": [
        "for i in newsExtractor(\"Bandhan bank\"):\n",
        "  print(i)"
      ],
      "metadata": {
        "colab": {
          "base_uri": "https://localhost:8080/"
        },
        "id": "QusX4uFKSbBp",
        "outputId": "7a9ebedc-d391-4d32-df60-06b69761504f"
      },
      "execution_count": null,
      "outputs": [
        {
          "output_type": "stream",
          "name": "stdout",
          "text": [
            "https://bandhanbank.com/banking-outlet-locator\n",
            "https://bandhanbank.com/\n",
            "https://bandhanbank.com/about-us\n",
            "https://bandhanbank.com/personal/bandhan-internet-banking\n",
            "https://bandhanbank.com/contact-us\n"
          ]
        }
      ]
    },
    {
      "cell_type": "code",
      "source": [
        "newsExtractor(\"hdfc\")"
      ],
      "metadata": {
        "colab": {
          "base_uri": "https://localhost:8080/"
        },
        "id": "gA6Ja8otVV_F",
        "outputId": "0c456e89-5277-4ff7-e198-8e7b2f609541"
      },
      "execution_count": null,
      "outputs": [
        {
          "output_type": "execute_result",
          "data": {
            "text/plain": [
              "['https://www.hdfcbank.com/',\n",
              " 'https://en.wikipedia.org/wiki/HDFC_Bank',\n",
              " 'https://www.hdfc.com/',\n",
              " 'https://economictimes.indiatimes.com/hdfc-bank-ltd/stocks/companyid-9195.cms',\n",
              " 'https://economictimes.indiatimes.com/wealth/ifsccode/bank-hdfc-bank.cms']"
            ]
          },
          "metadata": {},
          "execution_count": 62
        }
      ]
    },
    {
      "cell_type": "code",
      "source": [
        "try:\n",
        "\tfrom googlesearch import search\n",
        "except ImportError:\n",
        "\tprint(\"No module named 'google' found\")\n",
        "\n",
        "# to search\n",
        "query = \"Geeksforgeeks\"\n",
        "\n",
        "for j in search(query, tld=\"co.in\", num=10, stop=10, pause=2):\n",
        "\tprint(j)\n",
        "#https://www.geeksforgeeks.org/performing-google-search-using-python-code/"
      ],
      "metadata": {
        "colab": {
          "base_uri": "https://localhost:8080/"
        },
        "id": "o6MODkrFZKQU",
        "outputId": "47cb8c77-4496-48bd-c155-70d491e72ad7"
      },
      "execution_count": null,
      "outputs": [
        {
          "output_type": "stream",
          "name": "stdout",
          "text": [
            "https://www.geeksforgeeks.org/\n",
            "https://twitter.com/geeksforgeeks?ref_src=twsrc%5Egoogle%7Ctwcamp%5Eserp%7Ctwgr%5Eauthor\n",
            "https://twitter.com/geeksforgeeks/status/1562371637139341312?ref_src=twsrc%5Egoogle%7Ctwcamp%5Eserp%7Ctwgr%5Etweet\n",
            "https://twitter.com/geeksforgeeks/status/1562330769288470536?ref_src=twsrc%5Egoogle%7Ctwcamp%5Eserp%7Ctwgr%5Etweet\n",
            "https://twitter.com/geeksforgeeks/status/1562287417557524480?ref_src=twsrc%5Egoogle%7Ctwcamp%5Eserp%7Ctwgr%5Etweet\n",
            "https://twitter.com/geeksforgeeks/status/1562102566762254336?ref_src=twsrc%5Egoogle%7Ctwcamp%5Eserp%7Ctwgr%5Etweet\n",
            "https://in.linkedin.com/company/geeksforgeeks\n",
            "https://www.youtube.com/c/GeeksforGeeksVideos/videos\n",
            "https://www.youtube.com/c/GeeksforGeeksVideos\n",
            "https://www.instagram.com/geeks_for_geeks/?hl=en\n"
          ]
        }
      ]
    },
    {
      "cell_type": "code",
      "source": [
        "try:\n",
        "\tfrom googlesearch import search\n",
        "except ImportError:\n",
        "\tprint(\"No module named 'google' found\")\n",
        "\n",
        "# to search\n",
        "query = \"desss\"\n",
        "\n",
        "for j in search(query, tld=\"co.in\", num=10, stop=10, pause=3):\n",
        "\tprint(j)\n"
      ],
      "metadata": {
        "colab": {
          "base_uri": "https://localhost:8080/"
        },
        "id": "5eAL5om2ZbOu",
        "outputId": "76b05a99-f350-4733-add4-2f83a6b0a7d5"
      },
      "execution_count": null,
      "outputs": [
        {
          "output_type": "stream",
          "name": "stdout",
          "text": [
            "https://www.desss.com/\n",
            "https://www.linkedin.com/company/desss-inc\n",
            "https://tw.linkedin.com/company/desss-inc\n",
            "https://www.crunchbase.com/organization/desss\n",
            "https://www.zoominfo.com/c/desss-inc/20203137\n",
            "https://www.instagram.com/explore/tags/desss/?hl=en\n",
            "https://twitter.com/desssinc\n",
            "https://www.dess.com.tw/\n",
            "https://www.eastsussex.gov.uk/social-care/benefits/discretionary-east-sussex-support-scheme-desss\n",
            "https://za.pinterest.com/desss75/desss/\n"
          ]
        }
      ]
    },
    {
      "cell_type": "code",
      "source": [
        "try:\n",
        "\tfrom googlesearch import search\n",
        "except ImportError:\n",
        "\tprint(\"No module named 'google' found\")\n",
        "\n",
        "# to search\n",
        "query = \"desss\"\n",
        "\n",
        "for j in search(query, tld=\"com\", num=10, stop=10, pause=2):\n",
        "\tprint(j)\n",
        "#https://www.geeksforgeeks.org/performing-google-search-using-python-code/"
      ],
      "metadata": {
        "colab": {
          "base_uri": "https://localhost:8080/"
        },
        "id": "LenSPHdgmiLu",
        "outputId": "bb9cb9cc-9320-4705-ff78-ab5f88a75744"
      },
      "execution_count": null,
      "outputs": [
        {
          "output_type": "stream",
          "name": "stdout",
          "text": [
            "https://www.desss.com/\n",
            "https://www.linkedin.com/company/desss-inc\n",
            "https://tw.linkedin.com/company/desss-inc\n",
            "https://www.crunchbase.com/organization/desss\n",
            "https://www.zoominfo.com/c/desss-inc/20203137\n",
            "https://www.instagram.com/explore/tags/desss/?hl=en\n",
            "https://twitter.com/desssinc\n",
            "https://www.dess.com.tw/\n",
            "https://www.eastsussex.gov.uk/social-care/benefits/discretionary-east-sussex-support-scheme-desss\n",
            "https://www.pttweb.cc/user/desss\n"
          ]
        }
      ]
    },
    {
      "cell_type": "code",
      "source": [
        "try:\n",
        "\tfrom googlesearch import search\n",
        "except ImportError:\n",
        "\tprint(\"No module named 'google' found\")\n",
        "website = \"https://www.geeksforgeeks.org/\"# need a exact site name including /\n",
        "# to search\n",
        "query = \"geeksforgeeks\" # keyword\n",
        "rank, rank_list = 1, \"\"\n",
        "squares = []\n",
        "for j in search(query, tld=\"co.in\", num=10, stop=10, pause=2):\n",
        "    print(j)\n",
        "    squares.append(j)\n",
        "print(squares)\n",
        "# app.py\n",
        "\n",
        "#streaming = ['netflix', 'hulu', 'disney+', 'appletv+']\n",
        "streaming = squares\n",
        "index = streaming.index(website)\n",
        "print('The rank of your site is:', index+1)"
      ],
      "metadata": {
        "id": "wMCKrKswCyRH",
        "outputId": "d20a83e2-89c7-44c1-af1a-ad2634571565",
        "colab": {
          "base_uri": "https://localhost:8080/"
        }
      },
      "execution_count": 6,
      "outputs": [
        {
          "output_type": "stream",
          "name": "stdout",
          "text": [
            "https://www.geeksforgeeks.org/\n",
            "https://twitter.com/geeksforgeeks?ref_src=twsrc%5Egoogle%7Ctwcamp%5Eserp%7Ctwgr%5Eauthor\n",
            "https://twitter.com/geeksforgeeks/status/1562411797180985344?ref_src=twsrc%5Egoogle%7Ctwcamp%5Eserp%7Ctwgr%5Etweet\n",
            "https://twitter.com/geeksforgeeks/status/1562641349916393472?ref_src=twsrc%5Egoogle%7Ctwcamp%5Eserp%7Ctwgr%5Etweet\n",
            "https://twitter.com/geeksforgeeks/status/1562371637139341312?ref_src=twsrc%5Egoogle%7Ctwcamp%5Eserp%7Ctwgr%5Etweet\n",
            "https://twitter.com/geeksforgeeks/status/1562726928502919169?ref_src=twsrc%5Egoogle%7Ctwcamp%5Eserp%7Ctwgr%5Etweet\n",
            "https://in.linkedin.com/company/geeksforgeeks\n",
            "https://www.youtube.com/c/GeeksforGeeksVideos/videos\n",
            "https://www.instagram.com/geeks_for_geeks/?hl=en\n",
            "https://www.facebook.com/geeksforgeeks.org/\n",
            "['https://www.geeksforgeeks.org/', 'https://twitter.com/geeksforgeeks?ref_src=twsrc%5Egoogle%7Ctwcamp%5Eserp%7Ctwgr%5Eauthor', 'https://twitter.com/geeksforgeeks/status/1562411797180985344?ref_src=twsrc%5Egoogle%7Ctwcamp%5Eserp%7Ctwgr%5Etweet', 'https://twitter.com/geeksforgeeks/status/1562641349916393472?ref_src=twsrc%5Egoogle%7Ctwcamp%5Eserp%7Ctwgr%5Etweet', 'https://twitter.com/geeksforgeeks/status/1562371637139341312?ref_src=twsrc%5Egoogle%7Ctwcamp%5Eserp%7Ctwgr%5Etweet', 'https://twitter.com/geeksforgeeks/status/1562726928502919169?ref_src=twsrc%5Egoogle%7Ctwcamp%5Eserp%7Ctwgr%5Etweet', 'https://in.linkedin.com/company/geeksforgeeks', 'https://www.youtube.com/c/GeeksforGeeksVideos/videos', 'https://www.instagram.com/geeks_for_geeks/?hl=en', 'https://www.facebook.com/geeksforgeeks.org/']\n",
            "The rank of your site is: 1\n"
          ]
        }
      ]
    },
    {
      "cell_type": "code",
      "source": [
        "try:\n",
        "\tfrom googlesearch import search\n",
        "except ImportError:\n",
        "\tprint(\"No module named 'google' found\")\n",
        "website = \"https://www.amazon.com/\"# need a exact site name including /\n",
        "# to search\n",
        "query = \"amazon\" # keyword\n",
        "rank, rank_list = 1, \"\"\n",
        "squares = []\n",
        "for j in search(query, tld=\"com\", num=10, stop=10, pause=2):\n",
        "    #print(j)\n",
        "    squares.append(j)\n",
        "print(squares)\n",
        "# app.py\n",
        "\n",
        "#streaming = ['netflix', 'hulu', 'disney+', 'appletv+']\n",
        "streaming = squares\n",
        "index = streaming.index(website)\n",
        "print('The rank of your site is:', index+1)"
      ],
      "metadata": {
        "colab": {
          "base_uri": "https://localhost:8080/"
        },
        "id": "bMm7dZovqYuz",
        "outputId": "910ee96d-9032-4510-da1d-8b63c24fea6c"
      },
      "execution_count": 7,
      "outputs": [
        {
          "output_type": "stream",
          "name": "stdout",
          "text": [
            "['https://www.amazon.com/', 'http://www.amazon.com/', 'https://en.wikipedia.org/wiki/Amazon_(company)', 'https://www.cnbc.com/2022/08/24/amazon-is-shutting-down-amazon-care-telehealth-service.html', 'https://www.theverge.com/2022/8/24/23320768/amazon-care-shut-down-virtual-care-telehealth', 'https://www.zdnet.com/article/amazon-tries-a-new-way-to-excite-you-about-cybersecurity-its-called-laughter/', 'https://twitter.com/amazon?ref_src=twsrc%5Egoogle%7Ctwcamp%5Eserp%7Ctwgr%5Eauthor', 'https://twitter.com/amazon/status/1562107396130062339?ref_src=twsrc%5Egoogle%7Ctwcamp%5Eserp%7Ctwgr%5Etweet', 'https://twitter.com/amazon/status/1562628329081303041?ref_src=twsrc%5Egoogle%7Ctwcamp%5Eserp%7Ctwgr%5Etweet', 'https://twitter.com/amazon/status/1561692220108963840?ref_src=twsrc%5Egoogle%7Ctwcamp%5Eserp%7Ctwgr%5Etweet']\n",
            "The rank of your site is: 1\n"
          ]
        }
      ]
    }
  ]
}